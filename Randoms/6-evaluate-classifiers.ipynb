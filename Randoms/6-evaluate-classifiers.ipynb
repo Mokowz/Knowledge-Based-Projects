{
 "cells": [
  {
   "cell_type": "code",
   "execution_count": 1,
   "metadata": {},
   "outputs": [],
   "source": [
    "# setup\n",
    "from mlwpy import *\n",
    "%matplotlib inline\n"
   ]
  },
  {
   "cell_type": "code",
   "execution_count": 2,
   "metadata": {},
   "outputs": [],
   "source": [
    "\n",
    "iris = datasets.load_iris()\n",
    "tts = skms.train_test_split(iris.data, iris.target,\n",
    "      test_size=.33, random_state=21)\n",
    "(iris_train_ftrs, iris_test_ftrs, iris_train_tgt, iris_test_tgt) = tts"
   ]
  },
  {
   "cell_type": "code",
   "execution_count": 3,
   "metadata": {},
   "outputs": [
    {
     "name": "stdout",
     "output_type": "stream",
     "text": [
      "0.3\n"
     ]
    }
   ],
   "source": [
    "# normal usage:\n",
    "baseline = dummy.DummyClassifier(strategy=\"most_frequent\")\n",
    "baseline.fit(iris_train_ftrs, iris_train_tgt)\n",
    "base_preds = baseline.predict(iris_test_ftrs)\n",
    "base_acc = metrics.accuracy_score(base_preds, iris_test_tgt)\n",
    "print(base_acc)"
   ]
  },
  {
   "cell_type": "code",
   "execution_count": null,
   "metadata": {},
   "outputs": [],
   "source": []
  },
  {
   "cell_type": "code",
   "execution_count": null,
   "metadata": {},
   "outputs": [],
   "source": []
  }
 ],
 "metadata": {
  "kernelspec": {
   "display_name": "base",
   "language": "python",
   "name": "python3"
  },
  "language_info": {
   "codemirror_mode": {
    "name": "ipython",
    "version": 3
   },
   "file_extension": ".py",
   "mimetype": "text/x-python",
   "name": "python",
   "nbconvert_exporter": "python",
   "pygments_lexer": "ipython3",
   "version": "3.12.4"
  }
 },
 "nbformat": 4,
 "nbformat_minor": 2
}
