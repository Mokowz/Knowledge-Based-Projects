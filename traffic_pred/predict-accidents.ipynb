{
 "cells": [
  {
   "cell_type": "code",
   "execution_count": 1,
   "metadata": {},
   "outputs": [],
   "source": [
    "import pandas as pd \n",
    "import numpy as np"
   ]
  },
  {
   "cell_type": "code",
   "execution_count": 2,
   "metadata": {},
   "outputs": [
    {
     "data": {
      "text/html": [
       "<div>\n",
       "<style scoped>\n",
       "    .dataframe tbody tr th:only-of-type {\n",
       "        vertical-align: middle;\n",
       "    }\n",
       "\n",
       "    .dataframe tbody tr th {\n",
       "        vertical-align: top;\n",
       "    }\n",
       "\n",
       "    .dataframe thead th {\n",
       "        text-align: right;\n",
       "    }\n",
       "</style>\n",
       "<table border=\"1\" class=\"dataframe\">\n",
       "  <thead>\n",
       "    <tr style=\"text-align: right;\">\n",
       "      <th></th>\n",
       "      <th>Date</th>\n",
       "      <th>Accident Spot</th>\n",
       "      <th>Area</th>\n",
       "      <th>County</th>\n",
       "      <th>Road/ Highway</th>\n",
       "      <th>Brief Accident Details/Cause</th>\n",
       "      <th>Victims</th>\n",
       "      <th>Total people confirmed dead</th>\n",
       "      <th>Time of the Accidents</th>\n",
       "      <th>Weather conditions</th>\n",
       "    </tr>\n",
       "  </thead>\n",
       "  <tbody>\n",
       "    <tr>\n",
       "      <th>0</th>\n",
       "      <td>2023-08-08</td>\n",
       "      <td>Sobea</td>\n",
       "      <td>Sobea</td>\n",
       "      <td>Nakuru</td>\n",
       "      <td>Nakuru-Eldoret Highway</td>\n",
       "      <td>Head on Collision</td>\n",
       "      <td>Passengers</td>\n",
       "      <td>4</td>\n",
       "      <td>4.30 pm</td>\n",
       "      <td>NaN</td>\n",
       "    </tr>\n",
       "    <tr>\n",
       "      <th>1</th>\n",
       "      <td>2023-08-07</td>\n",
       "      <td>Maai-Mahiu</td>\n",
       "      <td>Naivasha</td>\n",
       "      <td>Nakuru</td>\n",
       "      <td>Maai-Mahiu Naivasha Highway</td>\n",
       "      <td>vehicle and motorcycle collision</td>\n",
       "      <td>Passengers</td>\n",
       "      <td>1</td>\n",
       "      <td>5.50 pm</td>\n",
       "      <td>NaN</td>\n",
       "    </tr>\n",
       "    <tr>\n",
       "      <th>2</th>\n",
       "      <td>2023-07-25</td>\n",
       "      <td>Ntulele</td>\n",
       "      <td>Ntulele</td>\n",
       "      <td>Narok</td>\n",
       "      <td>Narok Mai Mahiu road</td>\n",
       "      <td>Head on Collision</td>\n",
       "      <td>Drivers/Occupants</td>\n",
       "      <td>4</td>\n",
       "      <td>NaN</td>\n",
       "      <td>NaN</td>\n",
       "    </tr>\n",
       "    <tr>\n",
       "      <th>3</th>\n",
       "      <td>2022-12-02</td>\n",
       "      <td>Suswa</td>\n",
       "      <td>Suswa</td>\n",
       "      <td>Narok</td>\n",
       "      <td>Narok Mai Mahiu road</td>\n",
       "      <td>Head on Collision</td>\n",
       "      <td>Driver and passengers</td>\n",
       "      <td>3</td>\n",
       "      <td>6.00 pm</td>\n",
       "      <td>NaN</td>\n",
       "    </tr>\n",
       "    <tr>\n",
       "      <th>4</th>\n",
       "      <td>2022-12-01</td>\n",
       "      <td>Mutira</td>\n",
       "      <td>Mutira</td>\n",
       "      <td>Kirinyaga</td>\n",
       "      <td>Kerugoya-Karatina Road</td>\n",
       "      <td>Run over</td>\n",
       "      <td>Pedestrian</td>\n",
       "      <td>1</td>\n",
       "      <td>NaN</td>\n",
       "      <td>NaN</td>\n",
       "    </tr>\n",
       "  </tbody>\n",
       "</table>\n",
       "</div>"
      ],
      "text/plain": [
       "         Date Accident Spot      Area     County                Road/ Highway  \\\n",
       "0  2023-08-08         Sobea     Sobea     Nakuru       Nakuru-Eldoret Highway   \n",
       "1  2023-08-07    Maai-Mahiu  Naivasha     Nakuru  Maai-Mahiu Naivasha Highway   \n",
       "2  2023-07-25       Ntulele   Ntulele      Narok         Narok Mai Mahiu road   \n",
       "3  2022-12-02         Suswa     Suswa      Narok         Narok Mai Mahiu road   \n",
       "4  2022-12-01        Mutira    Mutira  Kirinyaga       Kerugoya-Karatina Road   \n",
       "\n",
       "       Brief Accident Details/Cause                Victims  \\\n",
       "0                 Head on Collision             Passengers   \n",
       "1  vehicle and motorcycle collision             Passengers   \n",
       "2                 Head on Collision      Drivers/Occupants   \n",
       "3                 Head on Collision  Driver and passengers   \n",
       "4                          Run over             Pedestrian   \n",
       "\n",
       "  Total people confirmed dead Time of the Accidents Weather conditions  \n",
       "0                           4               4.30 pm                NaN  \n",
       "1                           1               5.50 pm                NaN  \n",
       "2                           4                   NaN                NaN  \n",
       "3                           3               6.00 pm                NaN  \n",
       "4                           1                   NaN                NaN  "
      ]
     },
     "execution_count": 2,
     "metadata": {},
     "output_type": "execute_result"
    }
   ],
   "source": [
    "df_orig = pd.read_csv(\"traffic_accidents.csv\")\n",
    "\n",
    "df_orig.head()"
   ]
  },
  {
   "cell_type": "code",
   "execution_count": null,
   "metadata": {},
   "outputs": [
    {
     "data": {
      "text/plain": [
       "Date                             1\n",
       "Accident Spot                    0\n",
       "Area                             0\n",
       "County                           0\n",
       "Road/ Highway                    1\n",
       "Brief Accident Details/Cause     2\n",
       "Victims                         18\n",
       "Total people confirmed dead      9\n",
       "Time of the Accidents           56\n",
       "Weather conditions              80\n",
       "dtype: int64"
      ]
     },
     "execution_count": 4,
     "metadata": {},
     "output_type": "execute_result"
    }
   ],
   "source": [
    "# View Missing Values\n",
    "df_orig.isna().sum()"
   ]
  },
  {
   "cell_type": "code",
   "execution_count": 16,
   "metadata": {},
   "outputs": [
    {
     "name": "stdout",
     "output_type": "stream",
     "text": [
      "<class 'pandas.core.frame.DataFrame'>\n",
      "RangeIndex: 81 entries, 0 to 80\n",
      "Data columns (total 10 columns):\n",
      " #   Column                        Non-Null Count  Dtype \n",
      "---  ------                        --------------  ----- \n",
      " 0   Date                          80 non-null     object\n",
      " 1   Accident Spot                 81 non-null     object\n",
      " 2   Area                          81 non-null     object\n",
      " 3   County                        81 non-null     object\n",
      " 4   Road/ Highway                 80 non-null     object\n",
      " 5   Brief Accident Details/Cause  79 non-null     object\n",
      " 6   Victims                       63 non-null     object\n",
      " 7   Total people confirmed dead   72 non-null     object\n",
      " 8   Time of the Accidents         25 non-null     object\n",
      " 9   Weather conditions            1 non-null      object\n",
      "dtypes: object(10)\n",
      "memory usage: 6.5+ KB\n"
     ]
    }
   ],
   "source": [
    "df_orig.info()"
   ]
  },
  {
   "cell_type": "markdown",
   "metadata": {},
   "source": [
    "### Handle Missing Values"
   ]
  },
  {
   "cell_type": "code",
   "execution_count": 6,
   "metadata": {},
   "outputs": [
    {
     "data": {
      "text/html": [
       "<div>\n",
       "<style scoped>\n",
       "    .dataframe tbody tr th:only-of-type {\n",
       "        vertical-align: middle;\n",
       "    }\n",
       "\n",
       "    .dataframe tbody tr th {\n",
       "        vertical-align: top;\n",
       "    }\n",
       "\n",
       "    .dataframe thead th {\n",
       "        text-align: right;\n",
       "    }\n",
       "</style>\n",
       "<table border=\"1\" class=\"dataframe\">\n",
       "  <thead>\n",
       "    <tr style=\"text-align: right;\">\n",
       "      <th></th>\n",
       "      <th>Date</th>\n",
       "      <th>Accident Spot</th>\n",
       "      <th>Area</th>\n",
       "      <th>County</th>\n",
       "      <th>Road/ Highway</th>\n",
       "      <th>Brief Accident Details/Cause</th>\n",
       "      <th>Victims</th>\n",
       "      <th>Total people confirmed dead</th>\n",
       "      <th>Time of the Accidents</th>\n",
       "      <th>Weather conditions</th>\n",
       "    </tr>\n",
       "  </thead>\n",
       "  <tbody>\n",
       "    <tr>\n",
       "      <th>0</th>\n",
       "      <td>2023-08-08</td>\n",
       "      <td>Sobea</td>\n",
       "      <td>Sobea</td>\n",
       "      <td>Nakuru</td>\n",
       "      <td>Nakuru-Eldoret Highway</td>\n",
       "      <td>Head on Collision</td>\n",
       "      <td>Passengers</td>\n",
       "      <td>4</td>\n",
       "      <td>4.30 pm</td>\n",
       "      <td>NaN</td>\n",
       "    </tr>\n",
       "    <tr>\n",
       "      <th>1</th>\n",
       "      <td>2023-08-07</td>\n",
       "      <td>Maai-Mahiu</td>\n",
       "      <td>Naivasha</td>\n",
       "      <td>Nakuru</td>\n",
       "      <td>Maai-Mahiu Naivasha Highway</td>\n",
       "      <td>vehicle and motorcycle collision</td>\n",
       "      <td>Passengers</td>\n",
       "      <td>1</td>\n",
       "      <td>5.50 pm</td>\n",
       "      <td>NaN</td>\n",
       "    </tr>\n",
       "    <tr>\n",
       "      <th>2</th>\n",
       "      <td>2023-07-25</td>\n",
       "      <td>Ntulele</td>\n",
       "      <td>Ntulele</td>\n",
       "      <td>Narok</td>\n",
       "      <td>Narok Mai Mahiu road</td>\n",
       "      <td>Head on Collision</td>\n",
       "      <td>Drivers/Occupants</td>\n",
       "      <td>4</td>\n",
       "      <td>NaN</td>\n",
       "      <td>NaN</td>\n",
       "    </tr>\n",
       "    <tr>\n",
       "      <th>3</th>\n",
       "      <td>2022-12-02</td>\n",
       "      <td>Suswa</td>\n",
       "      <td>Suswa</td>\n",
       "      <td>Narok</td>\n",
       "      <td>Narok Mai Mahiu road</td>\n",
       "      <td>Head on Collision</td>\n",
       "      <td>Driver and passengers</td>\n",
       "      <td>3</td>\n",
       "      <td>6.00 pm</td>\n",
       "      <td>NaN</td>\n",
       "    </tr>\n",
       "    <tr>\n",
       "      <th>4</th>\n",
       "      <td>2022-12-01</td>\n",
       "      <td>Mutira</td>\n",
       "      <td>Mutira</td>\n",
       "      <td>Kirinyaga</td>\n",
       "      <td>Kerugoya-Karatina Road</td>\n",
       "      <td>Run over</td>\n",
       "      <td>Pedestrian</td>\n",
       "      <td>1</td>\n",
       "      <td>NaN</td>\n",
       "      <td>NaN</td>\n",
       "    </tr>\n",
       "  </tbody>\n",
       "</table>\n",
       "</div>"
      ],
      "text/plain": [
       "         Date Accident Spot      Area     County                Road/ Highway  \\\n",
       "0  2023-08-08         Sobea     Sobea     Nakuru       Nakuru-Eldoret Highway   \n",
       "1  2023-08-07    Maai-Mahiu  Naivasha     Nakuru  Maai-Mahiu Naivasha Highway   \n",
       "2  2023-07-25       Ntulele   Ntulele      Narok         Narok Mai Mahiu road   \n",
       "3  2022-12-02         Suswa     Suswa      Narok         Narok Mai Mahiu road   \n",
       "4  2022-12-01        Mutira    Mutira  Kirinyaga       Kerugoya-Karatina Road   \n",
       "\n",
       "       Brief Accident Details/Cause                Victims  \\\n",
       "0                 Head on Collision             Passengers   \n",
       "1  vehicle and motorcycle collision             Passengers   \n",
       "2                 Head on Collision      Drivers/Occupants   \n",
       "3                 Head on Collision  Driver and passengers   \n",
       "4                          Run over             Pedestrian   \n",
       "\n",
       "  Total people confirmed dead Time of the Accidents Weather conditions  \n",
       "0                           4               4.30 pm                NaN  \n",
       "1                           1               5.50 pm                NaN  \n",
       "2                           4                   NaN                NaN  \n",
       "3                           3               6.00 pm                NaN  \n",
       "4                           1                   NaN                NaN  "
      ]
     },
     "execution_count": 6,
     "metadata": {},
     "output_type": "execute_result"
    }
   ],
   "source": [
    "# Make a copy of the db\n",
    "df = df_orig.copy()\n",
    "\n",
    "df.head()"
   ]
  },
  {
   "cell_type": "code",
   "execution_count": 7,
   "metadata": {},
   "outputs": [],
   "source": [
    "# Rename Columns\n",
    "df = df.rename(\n",
    "  columns={\n",
    "    'Accident Spot': 'accident-spot',\n",
    "    'Road/ Highway': 'road',\n",
    "    'Brief Accident Details/Cause': 'accident-details',\n",
    "    'Total people confirmed dead': 'total-people-confirmed-dead',\n",
    "    'Time of the Accidents': 'accident-time',\n",
    "    'Weather conditions': 'weather'\n",
    "  }\n",
    ")"
   ]
  },
  {
   "cell_type": "code",
   "execution_count": 8,
   "metadata": {},
   "outputs": [
    {
     "data": {
      "text/plain": [
       "Index(['Date', 'accident-spot', 'Area', 'County', 'road', 'accident-details',\n",
       "       'Victims', 'total-people-confirmed-dead', 'accident-time', 'weather'],\n",
       "      dtype='object')"
      ]
     },
     "execution_count": 8,
     "metadata": {},
     "output_type": "execute_result"
    }
   ],
   "source": [
    "df.columns"
   ]
  },
  {
   "cell_type": "code",
   "execution_count": 9,
   "metadata": {},
   "outputs": [
    {
     "data": {
      "text/plain": [
       "Index(['Date', 'accident-spot', 'Area', 'County', 'road', 'accident-details',\n",
       "       'Victims', 'total-people-confirmed-dead'],\n",
       "      dtype='object')"
      ]
     },
     "execution_count": 9,
     "metadata": {},
     "output_type": "execute_result"
    }
   ],
   "source": [
    "\n",
    "# Drop Columns (Weather Condition, Time of accident)\n",
    "df = df.drop(columns=['weather', 'accident-time'], axis=1)\n",
    "\n",
    "df.columns"
   ]
  },
  {
   "cell_type": "code",
   "execution_count": 10,
   "metadata": {},
   "outputs": [
    {
     "data": {
      "text/html": [
       "<div>\n",
       "<style scoped>\n",
       "    .dataframe tbody tr th:only-of-type {\n",
       "        vertical-align: middle;\n",
       "    }\n",
       "\n",
       "    .dataframe tbody tr th {\n",
       "        vertical-align: top;\n",
       "    }\n",
       "\n",
       "    .dataframe thead th {\n",
       "        text-align: right;\n",
       "    }\n",
       "</style>\n",
       "<table border=\"1\" class=\"dataframe\">\n",
       "  <thead>\n",
       "    <tr style=\"text-align: right;\">\n",
       "      <th></th>\n",
       "      <th>Date</th>\n",
       "      <th>accident-spot</th>\n",
       "      <th>Area</th>\n",
       "      <th>County</th>\n",
       "      <th>road</th>\n",
       "      <th>accident-details</th>\n",
       "      <th>Victims</th>\n",
       "      <th>total-people-confirmed-dead</th>\n",
       "    </tr>\n",
       "  </thead>\n",
       "  <tbody>\n",
       "    <tr>\n",
       "      <th>0</th>\n",
       "      <td>2023-08-08</td>\n",
       "      <td>Sobea</td>\n",
       "      <td>Sobea</td>\n",
       "      <td>Nakuru</td>\n",
       "      <td>Nakuru-Eldoret Highway</td>\n",
       "      <td>Head on Collision</td>\n",
       "      <td>Passengers</td>\n",
       "      <td>4</td>\n",
       "    </tr>\n",
       "    <tr>\n",
       "      <th>1</th>\n",
       "      <td>2023-08-07</td>\n",
       "      <td>Maai-Mahiu</td>\n",
       "      <td>Naivasha</td>\n",
       "      <td>Nakuru</td>\n",
       "      <td>Maai-Mahiu Naivasha Highway</td>\n",
       "      <td>vehicle and motorcycle collision</td>\n",
       "      <td>Passengers</td>\n",
       "      <td>1</td>\n",
       "    </tr>\n",
       "    <tr>\n",
       "      <th>2</th>\n",
       "      <td>2023-07-25</td>\n",
       "      <td>Ntulele</td>\n",
       "      <td>Ntulele</td>\n",
       "      <td>Narok</td>\n",
       "      <td>Narok Mai Mahiu road</td>\n",
       "      <td>Head on Collision</td>\n",
       "      <td>Drivers/Occupants</td>\n",
       "      <td>4</td>\n",
       "    </tr>\n",
       "    <tr>\n",
       "      <th>3</th>\n",
       "      <td>2022-12-02</td>\n",
       "      <td>Suswa</td>\n",
       "      <td>Suswa</td>\n",
       "      <td>Narok</td>\n",
       "      <td>Narok Mai Mahiu road</td>\n",
       "      <td>Head on Collision</td>\n",
       "      <td>Driver and passengers</td>\n",
       "      <td>3</td>\n",
       "    </tr>\n",
       "    <tr>\n",
       "      <th>4</th>\n",
       "      <td>2022-12-01</td>\n",
       "      <td>Mutira</td>\n",
       "      <td>Mutira</td>\n",
       "      <td>Kirinyaga</td>\n",
       "      <td>Kerugoya-Karatina Road</td>\n",
       "      <td>Run over</td>\n",
       "      <td>Pedestrian</td>\n",
       "      <td>1</td>\n",
       "    </tr>\n",
       "  </tbody>\n",
       "</table>\n",
       "</div>"
      ],
      "text/plain": [
       "         Date accident-spot      Area     County                         road  \\\n",
       "0  2023-08-08         Sobea     Sobea     Nakuru       Nakuru-Eldoret Highway   \n",
       "1  2023-08-07    Maai-Mahiu  Naivasha     Nakuru  Maai-Mahiu Naivasha Highway   \n",
       "2  2023-07-25       Ntulele   Ntulele      Narok         Narok Mai Mahiu road   \n",
       "3  2022-12-02         Suswa     Suswa      Narok         Narok Mai Mahiu road   \n",
       "4  2022-12-01        Mutira    Mutira  Kirinyaga       Kerugoya-Karatina Road   \n",
       "\n",
       "                   accident-details                Victims  \\\n",
       "0                 Head on Collision             Passengers   \n",
       "1  vehicle and motorcycle collision             Passengers   \n",
       "2                 Head on Collision      Drivers/Occupants   \n",
       "3                 Head on Collision  Driver and passengers   \n",
       "4                          Run over             Pedestrian   \n",
       "\n",
       "  total-people-confirmed-dead  \n",
       "0                           4  \n",
       "1                           1  \n",
       "2                           4  \n",
       "3                           3  \n",
       "4                           1  "
      ]
     },
     "execution_count": 10,
     "metadata": {},
     "output_type": "execute_result"
    }
   ],
   "source": [
    "df.head()"
   ]
  },
  {
   "cell_type": "code",
   "execution_count": 22,
   "metadata": {},
   "outputs": [
    {
     "data": {
      "text/plain": [
       "Date                           1\n",
       "accident-spot                  0\n",
       "Area                           0\n",
       "County                         0\n",
       "road                           1\n",
       "accident-details               2\n",
       "total-people-confirmed-dead    0\n",
       "dtype: int64"
      ]
     },
     "execution_count": 22,
     "metadata": {},
     "output_type": "execute_result"
    }
   ],
   "source": [
    "# View Missing Values\n",
    "df.isna().sum()"
   ]
  },
  {
   "cell_type": "code",
   "execution_count": 12,
   "metadata": {},
   "outputs": [
    {
     "data": {
      "text/plain": [
       "Index(['Date', 'accident-spot', 'Area', 'County', 'road', 'accident-details',\n",
       "       'total-people-confirmed-dead'],\n",
       "      dtype='object')"
      ]
     },
     "execution_count": 12,
     "metadata": {},
     "output_type": "execute_result"
    }
   ],
   "source": [
    "# Drop the victims column\n",
    "df.drop('Victims', axis=1, inplace=True)\n",
    "\n",
    "df.columns"
   ]
  },
  {
   "cell_type": "code",
   "execution_count": null,
   "metadata": {},
   "outputs": [],
   "source": [
    "# Replace non-numeric values with NaN's\n",
    "df['total-people-confirmed-dead'] = pd.to_numeric(df['total-people-confirmed-dead'], errors='coerce')"
   ]
  },
  {
   "cell_type": "code",
   "execution_count": null,
   "metadata": {},
   "outputs": [
    {
     "name": "stderr",
     "output_type": "stream",
     "text": [
      "/tmp/ipykernel_20933/627564671.py:5: FutureWarning: A value is trying to be set on a copy of a DataFrame or Series through chained assignment using an inplace method.\n",
      "The behavior will change in pandas 3.0. This inplace method will never work because the intermediate object on which we are setting values always behaves as a copy.\n",
      "\n",
      "For example, when doing 'df[col].method(value, inplace=True)', try using 'df.method({col: value}, inplace=True)' or df[col] = df[col].method(value) instead, to perform the operation inplace on the original object.\n",
      "\n",
      "\n",
      "  df[\"total-people-confirmed-dead\"].fillna(df['total-people-confirmed-dead'].median(), inplace=True)\n"
     ]
    }
   ],
   "source": [
    "# Fill the missing values in confirmed dead using the median values\n",
    "df[\"total-people-confirmed-dead\"].fillna(df['total-people-confirmed-dead'].median(), inplace=True)"
   ]
  },
  {
   "cell_type": "code",
   "execution_count": null,
   "metadata": {},
   "outputs": [],
   "source": [
    "# Convert date column to datetime type\n",
    "df[\"Date\"] = pd.to_datetime(df['Date'], format='%Y-%m-%d')\n",
    "\n",
    "\n",
    "# Extract Date Data to Different Columns\n",
    "df['year'] = df['Date'].dt.year\n",
    "df['month'] = df['Date'].dt.month\n",
    "df['day'] = df['Date'].dt.day\n",
    "\n",
    "# Drop the date column\n",
    "df = df.drop(\"Date\", axis=1)"
   ]
  },
  {
   "cell_type": "code",
   "execution_count": 34,
   "metadata": {},
   "outputs": [
    {
     "data": {
      "text/plain": [
       "accident-spot                  0\n",
       "Area                           0\n",
       "County                         0\n",
       "road                           1\n",
       "accident-details               2\n",
       "total-people-confirmed-dead    0\n",
       "year                           1\n",
       "month                          1\n",
       "day                            1\n",
       "dtype: int64"
      ]
     },
     "execution_count": 34,
     "metadata": {},
     "output_type": "execute_result"
    }
   ],
   "source": [
    "df.isna().sum()"
   ]
  },
  {
   "cell_type": "code",
   "execution_count": 35,
   "metadata": {},
   "outputs": [
    {
     "data": {
      "text/plain": [
       "accident-spot                  0\n",
       "Area                           0\n",
       "County                         0\n",
       "road                           1\n",
       "accident-details               2\n",
       "total-people-confirmed-dead    0\n",
       "year                           0\n",
       "month                          0\n",
       "day                            0\n",
       "dtype: int64"
      ]
     },
     "execution_count": 35,
     "metadata": {},
     "output_type": "execute_result"
    }
   ],
   "source": [
    "df = df.dropna(subset=['month'])\n",
    "\n",
    "df.isna().sum()"
   ]
  },
  {
   "cell_type": "code",
   "execution_count": 39,
   "metadata": {},
   "outputs": [],
   "source": [
    "file = '1-traffic.csv'\n",
    "\n",
    "df.to_csv(file, index=False)"
   ]
  },
  {
   "cell_type": "code",
   "execution_count": 40,
   "metadata": {},
   "outputs": [
    {
     "data": {
      "text/html": [
       "<div>\n",
       "<style scoped>\n",
       "    .dataframe tbody tr th:only-of-type {\n",
       "        vertical-align: middle;\n",
       "    }\n",
       "\n",
       "    .dataframe tbody tr th {\n",
       "        vertical-align: top;\n",
       "    }\n",
       "\n",
       "    .dataframe thead th {\n",
       "        text-align: right;\n",
       "    }\n",
       "</style>\n",
       "<table border=\"1\" class=\"dataframe\">\n",
       "  <thead>\n",
       "    <tr style=\"text-align: right;\">\n",
       "      <th></th>\n",
       "      <th>accident-spot</th>\n",
       "      <th>Area</th>\n",
       "      <th>County</th>\n",
       "      <th>road</th>\n",
       "      <th>accident-details</th>\n",
       "      <th>total-people-confirmed-dead</th>\n",
       "      <th>year</th>\n",
       "      <th>month</th>\n",
       "      <th>day</th>\n",
       "    </tr>\n",
       "  </thead>\n",
       "  <tbody>\n",
       "    <tr>\n",
       "      <th>0</th>\n",
       "      <td>Sobea</td>\n",
       "      <td>Sobea</td>\n",
       "      <td>Nakuru</td>\n",
       "      <td>Nakuru-Eldoret Highway</td>\n",
       "      <td>Head on Collision</td>\n",
       "      <td>4.0</td>\n",
       "      <td>2023.0</td>\n",
       "      <td>8.0</td>\n",
       "      <td>8.0</td>\n",
       "    </tr>\n",
       "    <tr>\n",
       "      <th>1</th>\n",
       "      <td>Maai-Mahiu</td>\n",
       "      <td>Naivasha</td>\n",
       "      <td>Nakuru</td>\n",
       "      <td>Maai-Mahiu Naivasha Highway</td>\n",
       "      <td>vehicle and motorcycle collision</td>\n",
       "      <td>1.0</td>\n",
       "      <td>2023.0</td>\n",
       "      <td>8.0</td>\n",
       "      <td>7.0</td>\n",
       "    </tr>\n",
       "    <tr>\n",
       "      <th>2</th>\n",
       "      <td>Ntulele</td>\n",
       "      <td>Ntulele</td>\n",
       "      <td>Narok</td>\n",
       "      <td>Narok Mai Mahiu road</td>\n",
       "      <td>Head on Collision</td>\n",
       "      <td>4.0</td>\n",
       "      <td>2023.0</td>\n",
       "      <td>7.0</td>\n",
       "      <td>25.0</td>\n",
       "    </tr>\n",
       "    <tr>\n",
       "      <th>3</th>\n",
       "      <td>Suswa</td>\n",
       "      <td>Suswa</td>\n",
       "      <td>Narok</td>\n",
       "      <td>Narok Mai Mahiu road</td>\n",
       "      <td>Head on Collision</td>\n",
       "      <td>3.0</td>\n",
       "      <td>2022.0</td>\n",
       "      <td>12.0</td>\n",
       "      <td>2.0</td>\n",
       "    </tr>\n",
       "    <tr>\n",
       "      <th>4</th>\n",
       "      <td>Mutira</td>\n",
       "      <td>Mutira</td>\n",
       "      <td>Kirinyaga</td>\n",
       "      <td>Kerugoya-Karatina Road</td>\n",
       "      <td>Run over</td>\n",
       "      <td>1.0</td>\n",
       "      <td>2022.0</td>\n",
       "      <td>12.0</td>\n",
       "      <td>1.0</td>\n",
       "    </tr>\n",
       "  </tbody>\n",
       "</table>\n",
       "</div>"
      ],
      "text/plain": [
       "  accident-spot      Area     County                         road  \\\n",
       "0         Sobea     Sobea     Nakuru       Nakuru-Eldoret Highway   \n",
       "1    Maai-Mahiu  Naivasha     Nakuru  Maai-Mahiu Naivasha Highway   \n",
       "2       Ntulele   Ntulele      Narok         Narok Mai Mahiu road   \n",
       "3         Suswa     Suswa      Narok         Narok Mai Mahiu road   \n",
       "4        Mutira    Mutira  Kirinyaga       Kerugoya-Karatina Road   \n",
       "\n",
       "                   accident-details  total-people-confirmed-dead    year  \\\n",
       "0                 Head on Collision                          4.0  2023.0   \n",
       "1  vehicle and motorcycle collision                          1.0  2023.0   \n",
       "2                 Head on Collision                          4.0  2023.0   \n",
       "3                 Head on Collision                          3.0  2022.0   \n",
       "4                          Run over                          1.0  2022.0   \n",
       "\n",
       "   month   day  \n",
       "0    8.0   8.0  \n",
       "1    8.0   7.0  \n",
       "2    7.0  25.0  \n",
       "3   12.0   2.0  \n",
       "4   12.0   1.0  "
      ]
     },
     "execution_count": 40,
     "metadata": {},
     "output_type": "execute_result"
    }
   ],
   "source": [
    "df.head()"
   ]
  },
  {
   "cell_type": "markdown",
   "metadata": {},
   "source": [
    "### Categorize Data\n",
    "\n",
    "Utilize sklearn's one hot encoder to encode columns like (Area, County, and Road) into numerical classes"
   ]
  },
  {
   "cell_type": "code",
   "execution_count": 45,
   "metadata": {},
   "outputs": [
    {
     "data": {
      "text/plain": [
       "accident-spot                  0\n",
       "Area                           0\n",
       "County                         0\n",
       "road                           0\n",
       "accident-details               0\n",
       "total-people-confirmed-dead    0\n",
       "year                           0\n",
       "month                          0\n",
       "day                            0\n",
       "dtype: int64"
      ]
     },
     "execution_count": 45,
     "metadata": {},
     "output_type": "execute_result"
    }
   ],
   "source": [
    "df = pd.read_csv('1-traffic.csv')\n",
    "\n",
    "df.isna().sum()"
   ]
  },
  {
   "cell_type": "code",
   "execution_count": 46,
   "metadata": {},
   "outputs": [
    {
     "data": {
      "text/html": [
       "<div>\n",
       "<style scoped>\n",
       "    .dataframe tbody tr th:only-of-type {\n",
       "        vertical-align: middle;\n",
       "    }\n",
       "\n",
       "    .dataframe tbody tr th {\n",
       "        vertical-align: top;\n",
       "    }\n",
       "\n",
       "    .dataframe thead th {\n",
       "        text-align: right;\n",
       "    }\n",
       "</style>\n",
       "<table border=\"1\" class=\"dataframe\">\n",
       "  <thead>\n",
       "    <tr style=\"text-align: right;\">\n",
       "      <th></th>\n",
       "      <th>accident-spot</th>\n",
       "      <th>Area</th>\n",
       "      <th>County</th>\n",
       "      <th>road</th>\n",
       "      <th>accident-details</th>\n",
       "      <th>total-people-confirmed-dead</th>\n",
       "      <th>year</th>\n",
       "      <th>month</th>\n",
       "      <th>day</th>\n",
       "    </tr>\n",
       "  </thead>\n",
       "  <tbody>\n",
       "    <tr>\n",
       "      <th>0</th>\n",
       "      <td>Sobea</td>\n",
       "      <td>Sobea</td>\n",
       "      <td>Nakuru</td>\n",
       "      <td>Nakuru-Eldoret Highway</td>\n",
       "      <td>Head on Collision</td>\n",
       "      <td>4.0</td>\n",
       "      <td>2023.0</td>\n",
       "      <td>8.0</td>\n",
       "      <td>8.0</td>\n",
       "    </tr>\n",
       "    <tr>\n",
       "      <th>1</th>\n",
       "      <td>Maai-Mahiu</td>\n",
       "      <td>Naivasha</td>\n",
       "      <td>Nakuru</td>\n",
       "      <td>Maai-Mahiu Naivasha Highway</td>\n",
       "      <td>vehicle and motorcycle collision</td>\n",
       "      <td>1.0</td>\n",
       "      <td>2023.0</td>\n",
       "      <td>8.0</td>\n",
       "      <td>7.0</td>\n",
       "    </tr>\n",
       "    <tr>\n",
       "      <th>2</th>\n",
       "      <td>Ntulele</td>\n",
       "      <td>Ntulele</td>\n",
       "      <td>Narok</td>\n",
       "      <td>Narok Mai Mahiu road</td>\n",
       "      <td>Head on Collision</td>\n",
       "      <td>4.0</td>\n",
       "      <td>2023.0</td>\n",
       "      <td>7.0</td>\n",
       "      <td>25.0</td>\n",
       "    </tr>\n",
       "    <tr>\n",
       "      <th>3</th>\n",
       "      <td>Suswa</td>\n",
       "      <td>Suswa</td>\n",
       "      <td>Narok</td>\n",
       "      <td>Narok Mai Mahiu road</td>\n",
       "      <td>Head on Collision</td>\n",
       "      <td>3.0</td>\n",
       "      <td>2022.0</td>\n",
       "      <td>12.0</td>\n",
       "      <td>2.0</td>\n",
       "    </tr>\n",
       "    <tr>\n",
       "      <th>4</th>\n",
       "      <td>Mutira</td>\n",
       "      <td>Mutira</td>\n",
       "      <td>Kirinyaga</td>\n",
       "      <td>Kerugoya-Karatina Road</td>\n",
       "      <td>Run over</td>\n",
       "      <td>1.0</td>\n",
       "      <td>2022.0</td>\n",
       "      <td>12.0</td>\n",
       "      <td>1.0</td>\n",
       "    </tr>\n",
       "  </tbody>\n",
       "</table>\n",
       "</div>"
      ],
      "text/plain": [
       "  accident-spot      Area     County                         road  \\\n",
       "0         Sobea     Sobea     Nakuru       Nakuru-Eldoret Highway   \n",
       "1    Maai-Mahiu  Naivasha     Nakuru  Maai-Mahiu Naivasha Highway   \n",
       "2       Ntulele   Ntulele      Narok         Narok Mai Mahiu road   \n",
       "3         Suswa     Suswa      Narok         Narok Mai Mahiu road   \n",
       "4        Mutira    Mutira  Kirinyaga       Kerugoya-Karatina Road   \n",
       "\n",
       "                   accident-details  total-people-confirmed-dead    year  \\\n",
       "0                 Head on Collision                          4.0  2023.0   \n",
       "1  vehicle and motorcycle collision                          1.0  2023.0   \n",
       "2                 Head on Collision                          4.0  2023.0   \n",
       "3                 Head on Collision                          3.0  2022.0   \n",
       "4                          Run over                          1.0  2022.0   \n",
       "\n",
       "   month   day  \n",
       "0    8.0   8.0  \n",
       "1    8.0   7.0  \n",
       "2    7.0  25.0  \n",
       "3   12.0   2.0  \n",
       "4   12.0   1.0  "
      ]
     },
     "execution_count": 46,
     "metadata": {},
     "output_type": "execute_result"
    }
   ],
   "source": [
    "df.head()"
   ]
  },
  {
   "cell_type": "code",
   "execution_count": null,
   "metadata": {},
   "outputs": [],
   "source": [
    "from sklearn.preprocessing import OneHotEncoder\n",
    "\n",
    "# Initialize the encoder\n",
    "enc = OneHotEncoder()"
   ]
  }
 ],
 "metadata": {
  "kernelspec": {
   "display_name": "base",
   "language": "python",
   "name": "python3"
  },
  "language_info": {
   "codemirror_mode": {
    "name": "ipython",
    "version": 3
   },
   "file_extension": ".py",
   "mimetype": "text/x-python",
   "name": "python",
   "nbconvert_exporter": "python",
   "pygments_lexer": "ipython3",
   "version": "3.12.4"
  }
 },
 "nbformat": 4,
 "nbformat_minor": 2
}
