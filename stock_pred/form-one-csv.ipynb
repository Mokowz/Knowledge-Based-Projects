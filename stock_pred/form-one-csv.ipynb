{
 "cells": [
  {
   "cell_type": "code",
   "execution_count": 1,
   "metadata": {},
   "outputs": [],
   "source": [
    "import os\n",
    "import pandas as pd"
   ]
  },
  {
   "cell_type": "code",
   "execution_count": 9,
   "metadata": {},
   "outputs": [
    {
     "name": "stdout",
     "output_type": "stream",
     "text": [
      "Started\n"
     ]
    }
   ],
   "source": [
    "folder_path = '/home/ronny/Desktop/CS/4.1/Knowledge-Based-Systems/Projects/stock_pred/all-nairobi-stocks'\n",
    "output_file = 'equity_stocks.csv'\n",
    "\n",
    "# Empty data frame that will hold the combined data\n",
    "combined_data = pd.DataFrame()\n",
    "print(\"Started\")\n",
    "\n",
    "for file_name in os.listdir(folder_path):\n",
    "    # print(file_name)\n",
    "    if file_name.endswith('.csv'):\n",
    "        file_path = os.path.join(folder_path, file_name)\n",
    "        # print(file_path)\n",
    "\n",
    "        # Read the current csv file\n",
    "        df = pd.read_csv(file_path)\n",
    "\n",
    "        # Filter by the specific company\n",
    "        equity_data = df[df['CODE'] == 'EQTY']\n",
    "\n",
    "        # Append it to the combined data frame\n",
    "        combined_data = pd.concat([combined_data, equity_data])\n",
    "\n",
    "# Save the data frame to an output file\n",
    "combined_data.to_csv(output_file, index=False)"
   ]
  },
  {
   "cell_type": "code",
   "execution_count": null,
   "metadata": {},
   "outputs": [],
   "source": []
  }
 ],
 "metadata": {
  "kernelspec": {
   "display_name": "base",
   "language": "python",
   "name": "python3"
  },
  "language_info": {
   "codemirror_mode": {
    "name": "ipython",
    "version": 3
   },
   "file_extension": ".py",
   "mimetype": "text/x-python",
   "name": "python",
   "nbconvert_exporter": "python",
   "pygments_lexer": "ipython3",
   "version": "3.12.4"
  }
 },
 "nbformat": 4,
 "nbformat_minor": 2
}
